{
 "cells": [
  {
   "attachments": {},
   "cell_type": "markdown",
   "metadata": {},
   "source": [
    "# Welcome to the Jupyter notebook!\n",
    "This notebook is a great place to try out simple samples of Python code. You can run the code cells by clicking the \"Run\" button in the toolbar above.\n",
    "\n",
    "To get started, try running the following code cell:\n"
   ]
  },
  {
   "cell_type": "code",
   "execution_count": null,
   "metadata": {},
   "outputs": [],
   "source": [
    "print(\"Hello, world!\")"
   ]
  },
  {
   "attachments": {},
   "cell_type": "markdown",
   "metadata": {},
   "source": [
    "## Try simple math operation\n",
    "\n",
    "This section includes a few simple math operations that you can try with Python. The code cells are also commented to explain what each operation does."
   ]
  },
  {
   "cell_type": "code",
   "execution_count": null,
   "metadata": {},
   "outputs": [],
   "source": [
    "# Addition\n",
    "5 + 5"
   ]
  },
  {
   "cell_type": "code",
   "execution_count": null,
   "metadata": {},
   "outputs": [],
   "source": [
    "# Subtraction\n",
    "10 - 2"
   ]
  },
  {
   "cell_type": "code",
   "execution_count": null,
   "metadata": {},
   "outputs": [],
   "source": [
    "# Multiplication\n",
    "2 * 3"
   ]
  },
  {
   "cell_type": "code",
   "execution_count": null,
   "metadata": {},
   "outputs": [],
   "source": [
    "# Division\n",
    "12 / 4"
   ]
  },
  {
   "cell_type": "code",
   "execution_count": null,
   "metadata": {},
   "outputs": [],
   "source": [
    "# Exponentiation\n",
    "2 ** 3"
   ]
  },
  {
   "cell_type": "code",
   "execution_count": null,
   "metadata": {},
   "outputs": [],
   "source": [
    "# Modulus\n",
    "12 % 4"
   ]
  },
  {
   "cell_type": "code",
   "execution_count": null,
   "metadata": {},
   "outputs": [],
   "source": [
    "# Floor division\n",
    "12 // 4"
   ]
  },
  {
   "attachments": {},
   "cell_type": "markdown",
   "metadata": {},
   "source": [
    "Now it is your turn to write a math operation, try something like (2+3)*4"
   ]
  },
  {
   "cell_type": "code",
   "execution_count": null,
   "metadata": {},
   "outputs": [],
   "source": [
    "# Write your try below\n"
   ]
  },
  {
   "attachments": {},
   "cell_type": "markdown",
   "metadata": {},
   "source": [
    "## Variables definition in Python\n",
    "\n",
    "A variable is a named location in memory that holds a value.\n",
    "To define a variable in Python, you use the following syntax:\n",
    "\n",
    "variable_name = value\n",
    "\n",
    "For example, the following code defines a variable named `my_name` and assigns it the value \"Bard\":"
   ]
  },
  {
   "cell_type": "code",
   "execution_count": null,
   "metadata": {},
   "outputs": [],
   "source": [
    "my_name = \"Bard\""
   ]
  },
  {
   "attachments": {},
   "cell_type": "markdown",
   "metadata": {},
   "source": [
    "You can then use the variable `my_name` to refer to the value \"Bard\" in your code.\n",
    "\n",
    "For example, the following code prints the value of the variable `my_name`:"
   ]
  },
  {
   "cell_type": "code",
   "execution_count": null,
   "metadata": {},
   "outputs": [],
   "source": [
    "print(my_name)"
   ]
  },
  {
   "attachments": {},
   "cell_type": "markdown",
   "metadata": {},
   "source": [
    "Variables can be of different types, such as integers, floats, strings, lists, and dictionaries.\n",
    "\n",
    "The type of a variable is determined by the value that is assigned to it.\n",
    "\n",
    "For example, the following code defines a variable named `my_age` and assigns it the value 30."
   ]
  },
  {
   "cell_type": "code",
   "execution_count": null,
   "metadata": {},
   "outputs": [],
   "source": [
    "my_age = 30"
   ]
  },
  {
   "attachments": {},
   "cell_type": "markdown",
   "metadata": {},
   "source": [
    "The type of the variable `my_age` is `int`, because the value 30 is an integer.\n",
    "\n",
    "You can use the `type()` function to determine the type of a variable."
   ]
  },
  {
   "cell_type": "code",
   "execution_count": null,
   "metadata": {},
   "outputs": [],
   "source": [
    "type(my_age)"
   ]
  },
  {
   "attachments": {},
   "cell_type": "markdown",
   "metadata": {},
   "source": [
    "Variables can be reassigned new values.\n",
    "\n",
    "For example, the following code reassigns the variable `my_name` to the value \"John Doe\":\n"
   ]
  },
  {
   "cell_type": "code",
   "execution_count": null,
   "metadata": {},
   "outputs": [],
   "source": [
    "my_name = \"John Doe\""
   ]
  },
  {
   "attachments": {},
   "cell_type": "markdown",
   "metadata": {},
   "source": [
    "You can also use variables to store the results of calculations.\n",
    "\n",
    "For example, the following code defines a variable named `total` and assigns it the value of 10 + 20:"
   ]
  },
  {
   "cell_type": "code",
   "execution_count": null,
   "metadata": {},
   "outputs": [],
   "source": [
    "total = 10 + 20"
   ]
  },
  {
   "attachments": {},
   "cell_type": "markdown",
   "metadata": {},
   "source": [
    "The value of the variable `total` is now 30.\n",
    "\n",
    "You can then use the variable `total` to refer to the value 30 in your code.\n",
    "\n",
    "Variables are a powerful tool that can be used to store data and manipulate it in Python.\n",
    "\n",
    "By learning how to define and use variables, you can write more concise and efficient code."
   ]
  },
  {
   "cell_type": "code",
   "execution_count": null,
   "metadata": {},
   "outputs": [],
   "source": [
    "# To summarize, you can see the current values of the variables defined in this section.\n",
    "\n",
    "print(my_name)\n",
    "print(my_age)\n",
    "print(total)"
   ]
  },
  {
   "attachments": {},
   "cell_type": "markdown",
   "metadata": {},
   "source": [
    "## Function definition in Python\n",
    "\n",
    "A function is a reusable block of code that performs a specific task.\n",
    "\n",
    "To define a function in Python, you use the following syntax:\n",
    "\n",
    "def function_name(parameters):\n",
    "    # Body of the function\n",
    "    return value\n",
    "\n",
    "For example, the following code defines a function named `greet()` that takes a name as input and returns a greeting:"
   ]
  },
  {
   "cell_type": "code",
   "execution_count": null,
   "metadata": {},
   "outputs": [],
   "source": [
    "def greet(name):\n",
    "    return \"Hello, \" + name"
   ]
  },
  {
   "attachments": {},
   "cell_type": "markdown",
   "metadata": {},
   "source": [
    "You can then call the function `greet()` by passing it a name as an argument."
   ]
  },
  {
   "cell_type": "code",
   "execution_count": null,
   "metadata": {},
   "outputs": [],
   "source": [
    "greet(\"Bard\")"
   ]
  },
  {
   "attachments": {},
   "cell_type": "markdown",
   "metadata": {},
   "source": [
    "Functions can be of different types, such as positional, keyword, and default arguments.\n",
    "\n",
    "Positional arguments are arguments that are passed to a function in the order that they are defined.\n",
    "\n",
    "Keyword arguments are arguments that are passed to a function by name.\n",
    "\n",
    "Default arguments are arguments that have a default value that is used if the argument is not passed to the function.\n",
    "\n",
    "For example, the following code defines a function named `add()` that takes two positional arguments and returns their sum:\n"
   ]
  },
  {
   "cell_type": "code",
   "execution_count": null,
   "metadata": {},
   "outputs": [],
   "source": [
    "def add(x, y):\n",
    "    return x + y"
   ]
  },
  {
   "attachments": {},
   "cell_type": "markdown",
   "metadata": {},
   "source": [
    "The function `add()` can be called with two positional arguments, as follows:"
   ]
  },
  {
   "cell_type": "code",
   "execution_count": null,
   "metadata": {},
   "outputs": [],
   "source": [
    "add(10, 20)"
   ]
  },
  {
   "attachments": {},
   "cell_type": "markdown",
   "metadata": {},
   "source": [
    "The function `add()` can also be called with two keyword arguments, as follows:"
   ]
  },
  {
   "cell_type": "code",
   "execution_count": null,
   "metadata": {},
   "outputs": [],
   "source": [
    "add(x=10, y=20)"
   ]
  },
  {
   "attachments": {},
   "cell_type": "markdown",
   "metadata": {},
   "source": [
    "Functions are a powerful tool that can be used to organize and reuse code in Python.\n",
    "\n",
    "By learning how to define and use functions, you can write more concise and efficient code."
   ]
  },
  {
   "attachments": {},
   "cell_type": "markdown",
   "metadata": {},
   "source": [
    "## Challenge\n",
    "\n",
    "Now it's your turn to try out everything we've learned in this notebook, so in the following section, define a function called `average()` that takes three parameters, x, y, and z. The function must calculate the average of these three parameters.\n",
    "\n",
    "Once you have written your function, you can run the Test section and check your solution."
   ]
  },
  {
   "cell_type": "code",
   "execution_count": null,
   "metadata": {},
   "outputs": [],
   "source": [
    "# Create your function here.\n",
    "def average(x, y, z):\n",
    "    # Calculate the sum of the three numbers\n",
    "    total = x + y + z\n",
    "    # Calculate the average\n",
    "    average = total / 3\n",
    "    # Return the average\n",
    "    return average"
   ]
  },
  {
   "cell_type": "code",
   "execution_count": null,
   "metadata": {},
   "outputs": [],
   "source": [
    "# Test cases\n",
    "assert average(10, 20, 30) == 20\n",
    "assert average(1, 2, 3) == 2\n",
    "assert average(-1, -2, -3) == -2"
   ]
  }
 ],
 "metadata": {
  "kernelspec": {
   "display_name": ".venv",
   "language": "python",
   "name": "python3"
  },
  "language_info": {
   "codemirror_mode": {
    "name": "ipython",
    "version": 3
   },
   "file_extension": ".py",
   "mimetype": "text/x-python",
   "name": "python",
   "nbconvert_exporter": "python",
   "pygments_lexer": "ipython3",
   "version": "3.10.12"
  },
  "orig_nbformat": 4
 },
 "nbformat": 4,
 "nbformat_minor": 2
}
